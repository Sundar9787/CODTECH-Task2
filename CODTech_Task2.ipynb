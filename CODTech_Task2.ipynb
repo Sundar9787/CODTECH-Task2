{
  "nbformat": 4,
  "nbformat_minor": 0,
  "metadata": {
    "colab": {
      "provenance": []
    },
    "kernelspec": {
      "name": "python3",
      "display_name": "Python 3"
    },
    "language_info": {
      "name": "python"
    }
  },
  "cells": [
    {
      "cell_type": "markdown",
      "source": [
        "# Importing libraries"
      ],
      "metadata": {
        "id": "Se28YZXDS3Rg"
      }
    },
    {
      "cell_type": "code",
      "source": [
        "import numpy as np\n",
        "import matplotlib.pyplot as plt\n",
        "import pandas as pd"
      ],
      "metadata": {
        "id": "3xaesLsGHcB_"
      },
      "execution_count": 88,
      "outputs": []
    },
    {
      "cell_type": "markdown",
      "source": [
        "#Loading the dataset"
      ],
      "metadata": {
        "id": "AMLcs9XvTJkI"
      }
    },
    {
      "cell_type": "code",
      "source": [
        "dataset = pd.read_csv('/content/cars.csv')\n",
        "\n",
        "# Extract features and target variable\n",
        "X = dataset.drop(columns=['Car_ID', 'Price'])\n",
        "y = dataset['Price'].values\n",
        "\n",
        "print(X.head())"
      ],
      "metadata": {
        "colab": {
          "base_uri": "https://localhost:8080/"
        },
        "id": "tI2fMF0aHb-i",
        "outputId": "074a1c7e-4fac-4f64-ddb2-7696ceebbc9f"
      },
      "execution_count": 89,
      "outputs": [
        {
          "output_type": "stream",
          "name": "stdout",
          "text": [
            "     Brand    Model  Year  Kilometers_Driven Fuel_Type Transmission  \\\n",
            "0   Toyota  Corolla  2018              50000    Petrol       Manual   \n",
            "1    Honda    Civic  2019              40000    Petrol    Automatic   \n",
            "2     Ford  Mustang  2017              20000    Petrol    Automatic   \n",
            "3   Maruti    Swift  2020              30000    Diesel       Manual   \n",
            "4  Hyundai   Sonata  2016              60000    Diesel    Automatic   \n",
            "\n",
            "  Owner_Type  Mileage  Engine  Power  Seats  \n",
            "0      First       15    1498    108      5  \n",
            "1     Second       17    1597    140      5  \n",
            "2      First       10    4951    395      4  \n",
            "3      Third       23    1248     74      5  \n",
            "4     Second       18    1999    194      5  \n"
          ]
        }
      ]
    },
    {
      "cell_type": "markdown",
      "source": [
        "# Encoding Categorical values"
      ],
      "metadata": {
        "id": "q9LgVBd4TO-6"
      }
    },
    {
      "cell_type": "code",
      "source": [
        "from sklearn.compose import ColumnTransformer\n",
        "from sklearn.preprocessing import OneHotEncoder\n",
        "\n",
        "# Identifying categorical features\n",
        "categorical_features = ['Brand', 'Model', 'Fuel_Type', 'Transmission', 'Owner_Type']\n",
        "\n",
        "# Applying OneHotEncoder to categorical features\n",
        "ct = ColumnTransformer(transformers=[('encoder', OneHotEncoder(), categorical_features)], remainder='passthrough')\n",
        "X = ct.fit_transform(X).toarray()  #Convert the sparse matrix to a dense array\n",
        "np.set_printoptions(precision=2, suppress=True)\n",
        "print(X)"
      ],
      "metadata": {
        "colab": {
          "base_uri": "https://localhost:8080/"
        },
        "id": "HaxDNcwiHb7I",
        "outputId": "50d544b1-3931-4e2c-aad8-375d74f64ef4"
      },
      "execution_count": 90,
      "outputs": [
        {
          "output_type": "stream",
          "name": "stdout",
          "text": [
            "[[   0.    0.    0. ... 1498.  108.    5.]\n",
            " [   0.    0.    0. ... 1597.  140.    5.]\n",
            " [   0.    0.    1. ... 4951.  395.    4.]\n",
            " ...\n",
            " [   0.    0.    1. ... 1497.  121.    5.]\n",
            " [   0.    0.    0. ... 1497.  113.    5.]\n",
            " [   0.    0.    0. ... 1199.   85.    5.]]\n"
          ]
        }
      ]
    },
    {
      "cell_type": "markdown",
      "source": [
        "# Splitting into Train and Test set"
      ],
      "metadata": {
        "id": "zHEkFFIZTU3H"
      }
    },
    {
      "cell_type": "code",
      "source": [
        "from sklearn.model_selection import train_test_split\n",
        "X_train, X_test, y_train, y_test = train_test_split(X, y, test_size=0.2, random_state=42)"
      ],
      "metadata": {
        "id": "1pGXnW5NHb36"
      },
      "execution_count": 91,
      "outputs": []
    },
    {
      "cell_type": "code",
      "source": [
        "X_train"
      ],
      "metadata": {
        "colab": {
          "base_uri": "https://localhost:8080/"
        },
        "id": "uKmZTdJBSDhp",
        "outputId": "d8d79afb-13e9-4dc0-af64-c4ae85329aa1"
      },
      "execution_count": 92,
      "outputs": [
        {
          "output_type": "execute_result",
          "data": {
            "text/plain": [
              "array([[   1.,    0.,    0., ..., 1968.,  187.,    5.],\n",
              "       [   0.,    0.,    1., ..., 2261.,  396.,    4.],\n",
              "       [   1.,    0.,    0., ..., 1984.,  241.,    5.],\n",
              "       ...,\n",
              "       [   0.,    0.,    0., ..., 1462.,  103.,    7.],\n",
              "       [   0.,    0.,    0., ..., 1598.,  103.,    5.],\n",
              "       [   0.,    0.,    0., ..., 1197.,   81.,    5.]])"
            ]
          },
          "metadata": {},
          "execution_count": 92
        }
      ]
    },
    {
      "cell_type": "code",
      "source": [
        "X_test"
      ],
      "metadata": {
        "colab": {
          "base_uri": "https://localhost:8080/"
        },
        "id": "MSj7dTm6Sjmh",
        "outputId": "2b4231e4-e68d-4ccd-9cc9-5ef56287317e"
      },
      "execution_count": 93,
      "outputs": [
        {
          "output_type": "execute_result",
          "data": {
            "text/plain": [
              "array([[   0.,    0.,    0., ..., 1498.,  148.,    5.],\n",
              "       [   0.,    0.,    0., ..., 1497.,  115.,    5.],\n",
              "       [   0.,    0.,    0., ..., 1956.,  150.,    7.],\n",
              "       ...,\n",
              "       [   0.,    0.,    0., ..., 1496.,  106.,    5.],\n",
              "       [   0.,    0.,    0., ..., 1497.,  113.,    5.],\n",
              "       [   0.,    0.,    0., ..., 1582.,  126.,    5.]])"
            ]
          },
          "metadata": {},
          "execution_count": 93
        }
      ]
    },
    {
      "cell_type": "code",
      "source": [
        "y_train"
      ],
      "metadata": {
        "colab": {
          "base_uri": "https://localhost:8080/"
        },
        "id": "Ywu-x6xVSnAZ",
        "outputId": "ebb9a077-61e5-404d-da6c-0c93a06c339f"
      },
      "execution_count": 94,
      "outputs": [
        {
          "output_type": "execute_result",
          "data": {
            "text/plain": [
              "array([2600000, 2700000, 3200000,  500000,  800000,  650000, 1500000,\n",
              "       1400000, 2700000,  750000, 2000000, 3200000, 3200000, 2700000,\n",
              "       2600000,  750000, 2700000, 2800000,  500000, 1800000, 1800000,\n",
              "        750000,  650000, 2900000, 2800000, 2500000,  700000, 1600000,\n",
              "       1200000, 1600000, 1200000,  600000, 1900000, 4000000, 2200000,\n",
              "       1500000,  900000, 3200000, 2000000,  550000, 2800000,  600000,\n",
              "        650000,  700000, 2700000, 2500000, 3000000,  600000,  600000,\n",
              "        750000,  450000,  450000, 1400000, 2400000,  850000, 2900000,\n",
              "       3500000, 1300000, 2800000,  750000, 1600000, 3000000, 3500000,\n",
              "       2500000, 1000000,  500000,  550000, 2500000,  600000, 1800000,\n",
              "        700000, 2000000, 2400000,  850000, 1400000,  850000,  700000,\n",
              "        850000,  650000,  550000])"
            ]
          },
          "metadata": {},
          "execution_count": 94
        }
      ]
    },
    {
      "cell_type": "code",
      "source": [
        "y_test"
      ],
      "metadata": {
        "colab": {
          "base_uri": "https://localhost:8080/"
        },
        "id": "4wiZYY0ZSozH",
        "outputId": "19fa7002-dadf-430f-f6a2-433bb20aeeb0"
      },
      "execution_count": 95,
      "outputs": [
        {
          "output_type": "execute_result",
          "data": {
            "text/plain": [
              "array([1600000,  700000, 1300000, 1600000,  850000,  650000,  850000,\n",
              "        500000, 2300000,  800000, 3000000,  600000,  500000,  700000,\n",
              "        500000,  850000, 4000000,  650000,  850000,  800000])"
            ]
          },
          "metadata": {},
          "execution_count": 95
        }
      ]
    },
    {
      "cell_type": "markdown",
      "source": [
        "#Training the Linear Regression model on the Training set"
      ],
      "metadata": {
        "id": "jiB9zau5TdML"
      }
    },
    {
      "cell_type": "code",
      "source": [
        "from sklearn.linear_model import LinearRegression\n",
        "regressor = LinearRegression()\n",
        "regressor.fit(X_train, y_train)"
      ],
      "metadata": {
        "colab": {
          "base_uri": "https://localhost:8080/",
          "height": 74
        },
        "id": "g_uJFmvOHbxv",
        "outputId": "d9b819ff-b8ca-445d-ee58-eb7037714467"
      },
      "execution_count": 96,
      "outputs": [
        {
          "output_type": "execute_result",
          "data": {
            "text/plain": [
              "LinearRegression()"
            ],
            "text/html": [
              "<style>#sk-container-id-6 {color: black;background-color: white;}#sk-container-id-6 pre{padding: 0;}#sk-container-id-6 div.sk-toggleable {background-color: white;}#sk-container-id-6 label.sk-toggleable__label {cursor: pointer;display: block;width: 100%;margin-bottom: 0;padding: 0.3em;box-sizing: border-box;text-align: center;}#sk-container-id-6 label.sk-toggleable__label-arrow:before {content: \"▸\";float: left;margin-right: 0.25em;color: #696969;}#sk-container-id-6 label.sk-toggleable__label-arrow:hover:before {color: black;}#sk-container-id-6 div.sk-estimator:hover label.sk-toggleable__label-arrow:before {color: black;}#sk-container-id-6 div.sk-toggleable__content {max-height: 0;max-width: 0;overflow: hidden;text-align: left;background-color: #f0f8ff;}#sk-container-id-6 div.sk-toggleable__content pre {margin: 0.2em;color: black;border-radius: 0.25em;background-color: #f0f8ff;}#sk-container-id-6 input.sk-toggleable__control:checked~div.sk-toggleable__content {max-height: 200px;max-width: 100%;overflow: auto;}#sk-container-id-6 input.sk-toggleable__control:checked~label.sk-toggleable__label-arrow:before {content: \"▾\";}#sk-container-id-6 div.sk-estimator input.sk-toggleable__control:checked~label.sk-toggleable__label {background-color: #d4ebff;}#sk-container-id-6 div.sk-label input.sk-toggleable__control:checked~label.sk-toggleable__label {background-color: #d4ebff;}#sk-container-id-6 input.sk-hidden--visually {border: 0;clip: rect(1px 1px 1px 1px);clip: rect(1px, 1px, 1px, 1px);height: 1px;margin: -1px;overflow: hidden;padding: 0;position: absolute;width: 1px;}#sk-container-id-6 div.sk-estimator {font-family: monospace;background-color: #f0f8ff;border: 1px dotted black;border-radius: 0.25em;box-sizing: border-box;margin-bottom: 0.5em;}#sk-container-id-6 div.sk-estimator:hover {background-color: #d4ebff;}#sk-container-id-6 div.sk-parallel-item::after {content: \"\";width: 100%;border-bottom: 1px solid gray;flex-grow: 1;}#sk-container-id-6 div.sk-label:hover label.sk-toggleable__label {background-color: #d4ebff;}#sk-container-id-6 div.sk-serial::before {content: \"\";position: absolute;border-left: 1px solid gray;box-sizing: border-box;top: 0;bottom: 0;left: 50%;z-index: 0;}#sk-container-id-6 div.sk-serial {display: flex;flex-direction: column;align-items: center;background-color: white;padding-right: 0.2em;padding-left: 0.2em;position: relative;}#sk-container-id-6 div.sk-item {position: relative;z-index: 1;}#sk-container-id-6 div.sk-parallel {display: flex;align-items: stretch;justify-content: center;background-color: white;position: relative;}#sk-container-id-6 div.sk-item::before, #sk-container-id-6 div.sk-parallel-item::before {content: \"\";position: absolute;border-left: 1px solid gray;box-sizing: border-box;top: 0;bottom: 0;left: 50%;z-index: -1;}#sk-container-id-6 div.sk-parallel-item {display: flex;flex-direction: column;z-index: 1;position: relative;background-color: white;}#sk-container-id-6 div.sk-parallel-item:first-child::after {align-self: flex-end;width: 50%;}#sk-container-id-6 div.sk-parallel-item:last-child::after {align-self: flex-start;width: 50%;}#sk-container-id-6 div.sk-parallel-item:only-child::after {width: 0;}#sk-container-id-6 div.sk-dashed-wrapped {border: 1px dashed gray;margin: 0 0.4em 0.5em 0.4em;box-sizing: border-box;padding-bottom: 0.4em;background-color: white;}#sk-container-id-6 div.sk-label label {font-family: monospace;font-weight: bold;display: inline-block;line-height: 1.2em;}#sk-container-id-6 div.sk-label-container {text-align: center;}#sk-container-id-6 div.sk-container {/* jupyter's `normalize.less` sets `[hidden] { display: none; }` but bootstrap.min.css set `[hidden] { display: none !important; }` so we also need the `!important` here to be able to override the default hidden behavior on the sphinx rendered scikit-learn.org. See: https://github.com/scikit-learn/scikit-learn/issues/21755 */display: inline-block !important;position: relative;}#sk-container-id-6 div.sk-text-repr-fallback {display: none;}</style><div id=\"sk-container-id-6\" class=\"sk-top-container\"><div class=\"sk-text-repr-fallback\"><pre>LinearRegression()</pre><b>In a Jupyter environment, please rerun this cell to show the HTML representation or trust the notebook. <br />On GitHub, the HTML representation is unable to render, please try loading this page with nbviewer.org.</b></div><div class=\"sk-container\" hidden><div class=\"sk-item\"><div class=\"sk-estimator sk-toggleable\"><input class=\"sk-toggleable__control sk-hidden--visually\" id=\"sk-estimator-id-6\" type=\"checkbox\" checked><label for=\"sk-estimator-id-6\" class=\"sk-toggleable__label sk-toggleable__label-arrow\">LinearRegression</label><div class=\"sk-toggleable__content\"><pre>LinearRegression()</pre></div></div></div></div></div>"
            ]
          },
          "metadata": {},
          "execution_count": 96
        }
      ]
    },
    {
      "cell_type": "markdown",
      "source": [
        "# Predicting the Test set results"
      ],
      "metadata": {
        "id": "sOkcKriJVDwn"
      }
    },
    {
      "cell_type": "code",
      "source": [
        "y_pred = regressor.predict(X_test)\n",
        "np.set_printoptions(precision=2)\n",
        "print(np.concatenate((y_pred.reshape(len(y_pred), 1), y_test.reshape(len(y_test), 1)), 1))"
      ],
      "metadata": {
        "colab": {
          "base_uri": "https://localhost:8080/"
        },
        "id": "KP8oN7QGH1XI",
        "outputId": "2220e270-fb85-4ea9-9b65-c0b0d058117d"
      },
      "execution_count": 97,
      "outputs": [
        {
          "output_type": "stream",
          "name": "stdout",
          "text": [
            "[[1257427.92 1600000.  ]\n",
            " [ 700000.    700000.  ]\n",
            " [1300000.   1300000.  ]\n",
            " [1257427.92 1600000.  ]\n",
            " [ 850000.    850000.  ]\n",
            " [1074817.95  650000.  ]\n",
            " [ 999245.25  850000.  ]\n",
            " [ 500000.    500000.  ]\n",
            " [2427553.4  2300000.  ]\n",
            " [ 884879.91  800000.  ]\n",
            " [2603337.   3000000.  ]\n",
            " [ 600000.    600000.  ]\n",
            " [ 500000.    500000.  ]\n",
            " [ 700000.    700000.  ]\n",
            " [ 500000.    500000.  ]\n",
            " [1543378.87  850000.  ]\n",
            " [4000000.   4000000.  ]\n",
            " [1074817.95  650000.  ]\n",
            " [ 788423.37  850000.  ]\n",
            " [ 800000.    800000.  ]]\n"
          ]
        }
      ]
    },
    {
      "cell_type": "markdown",
      "source": [
        "#Evaluating the model"
      ],
      "metadata": {
        "id": "e_esS9qPTsN-"
      }
    },
    {
      "cell_type": "code",
      "source": [
        "from sklearn.metrics import mean_squared_error, r2_score\n",
        "mse = mean_squared_error(y_test, y_pred)\n",
        "r2 = r2_score(y_test, y_pred)\n",
        "print(f'Mean Squared Error: {mse}')\n",
        "print(f'R-squared: {r2}')"
      ],
      "metadata": {
        "colab": {
          "base_uri": "https://localhost:8080/"
        },
        "id": "vXFs1wUgH1Tt",
        "outputId": "febff8e5-b47c-42f0-e0c0-08e1b761deec"
      },
      "execution_count": 98,
      "outputs": [
        {
          "output_type": "stream",
          "name": "stdout",
          "text": [
            "Mean Squared Error: 64165396887.109924\n",
            "R-squared: 0.9215438076822035\n"
          ]
        }
      ]
    },
    {
      "cell_type": "markdown",
      "source": [
        "#Visualizing the Actual vs. Predicted values"
      ],
      "metadata": {
        "id": "iUvPUBQnTv5o"
      }
    },
    {
      "cell_type": "code",
      "source": [
        "plt.figure(figsize=(10, 6))\n",
        "plt.scatter(y_test, y_pred, alpha=0.7, color='b')\n",
        "plt.plot([y_test.min(), y_test.max()], [y_test.min(), y_test.max()], 'k--', lw=2)\n",
        "plt.xlabel('Actual Prices')\n",
        "plt.ylabel('Predicted Prices')\n",
        "plt.title('Actual vs. Predicted Prices')\n",
        "plt.show()\n"
      ],
      "metadata": {
        "colab": {
          "base_uri": "https://localhost:8080/",
          "height": 564
        },
        "id": "gxwzUw9FH1RS",
        "outputId": "ce3c4cb8-e4c1-456e-f91f-2baee8fb28d9"
      },
      "execution_count": 99,
      "outputs": [
        {
          "output_type": "display_data",
          "data": {
            "text/plain": [
              "<Figure size 1000x600 with 1 Axes>"
            ],
            "image/png": "[encoded data removed]"
          },
          "metadata": {}
        }
      ]
    },
    {
      "cell_type": "markdown",
      "source": [
        "#Testing the model with custom values"
      ],
      "metadata": {
        "id": "5bILYi6NZpLm"
      }
    },
    {
      "cell_type": "code",
      "source": [
        "test_case = pd.DataFrame({\n",
        "    'Brand': ['Toyota'],\n",
        "    'Model': ['Corolla'],\n",
        "    'Year': [2018],\n",
        "    'Kilometers_Driven': [100000],\n",
        "    'Fuel_Type': ['Petrol'],\n",
        "    'Transmission': ['Manual'],\n",
        "    'Owner_Type': ['First'],\n",
        "    'Mileage': [18.0],\n",
        "    'Engine': [1794],\n",
        "    'Power': [125],\n",
        "    'Seats': [5]\n",
        "})\n",
        "\n",
        "# Encode the custom data\n",
        "encoded_testcase = ct.transform(test_case).toarray()\n",
        "\n",
        "# Predict the price using the trained model\n",
        "custom_pred = regressor.predict(encoded_testcase)\n",
        "np.set_printoptions(precision=2)\n",
        "print(f'Predicted price: {custom_pred[0]:.2f}')"
      ],
      "metadata": {
        "colab": {
          "base_uri": "https://localhost:8080/"
        },
        "id": "-aTFLyjkZWm6",
        "outputId": "aa1aa19b-48bb-44dc-dfc0-fbfa2f6438f6"
      },
      "execution_count": 101,
      "outputs": [
        {
          "output_type": "stream",
          "name": "stdout",
          "text": [
            "Predicted price: 291339.09\n"
          ]
        }
      ]
    }
  ]
}